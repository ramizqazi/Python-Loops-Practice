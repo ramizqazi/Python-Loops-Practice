{
 "cells": [
  {
   "cell_type": "markdown",
   "id": "bb1d18c4",
   "metadata": {},
   "source": [
    "# Loops In Python"
   ]
  },
  {
   "cell_type": "markdown",
   "id": "7468f747",
   "metadata": {},
   "source": [
    "## For Loop"
   ]
  },
  {
   "cell_type": "code",
   "execution_count": 1,
   "id": "083ecb15",
   "metadata": {},
   "outputs": [],
   "source": [
    "students = ['Asad', 'Ali', 'Daad', 'Hassan'];"
   ]
  },
  {
   "cell_type": "code",
   "execution_count": 2,
   "id": "e4f41f48",
   "metadata": {},
   "outputs": [
    {
     "name": "stdout",
     "output_type": "stream",
     "text": [
      "asad\n",
      "ali\n",
      "daad\n",
      "hassan\n"
     ]
    }
   ],
   "source": [
    "for student in students:\n",
    "    print(student.lower());"
   ]
  },
  {
   "cell_type": "code",
   "execution_count": 8,
   "id": "206f6000",
   "metadata": {},
   "outputs": [
    {
     "name": "stdout",
     "output_type": "stream",
     "text": [
      "Ramiz"
     ]
    }
   ],
   "source": [
    "for char in 'Ramiz':\n",
    "    print(char, end=\"\")"
   ]
  },
  {
   "cell_type": "markdown",
   "id": "82e0e4bc",
   "metadata": {},
   "source": [
    "### Range Generator"
   ]
  },
  {
   "cell_type": "code",
   "execution_count": 10,
   "id": "366cbad8",
   "metadata": {},
   "outputs": [
    {
     "name": "stdout",
     "output_type": "stream",
     "text": [
      "0 1 2 3 4 5 6 7 8 9 "
     ]
    }
   ],
   "source": [
    "for num in range(10):\n",
    "    print(num, end=\" \")"
   ]
  },
  {
   "cell_type": "code",
   "execution_count": 11,
   "id": "446893fb",
   "metadata": {},
   "outputs": [
    {
     "name": "stdout",
     "output_type": "stream",
     "text": [
      "1 2 3 4 5 6 7 8 9 "
     ]
    }
   ],
   "source": [
    "for num in range(1,10):\n",
    "    print(num, end=\" \")"
   ]
  },
  {
   "cell_type": "code",
   "execution_count": 13,
   "id": "7552120d",
   "metadata": {},
   "outputs": [
    {
     "name": "stdout",
     "output_type": "stream",
     "text": [
      "1 3 5 7 9 "
     ]
    }
   ],
   "source": [
    "for num in range(1,10, 2):\n",
    "    print(num, end=\" \")"
   ]
  },
  {
   "cell_type": "code",
   "execution_count": 15,
   "id": "2d5b6d95",
   "metadata": {},
   "outputs": [
    {
     "name": "stdout",
     "output_type": "stream",
     "text": [
      "10 9 8 7 6 5 4 3 2 1 "
     ]
    }
   ],
   "source": [
    "for num in range(10, 0, -1):\n",
    "    print(num, end=\" \")"
   ]
  },
  {
   "cell_type": "code",
   "execution_count": 27,
   "id": "1c343ba0",
   "metadata": {},
   "outputs": [
    {
     "name": "stdout",
     "output_type": "stream",
     "text": [
      "Asad Ali Daad Hassan "
     ]
    }
   ],
   "source": [
    "for student in range(0, 4):\n",
    "    print(students[student], end=\" \")"
   ]
  },
  {
   "cell_type": "markdown",
   "id": "98ba21df",
   "metadata": {},
   "source": [
    "## Break, Continue"
   ]
  },
  {
   "cell_type": "code",
   "execution_count": null,
   "id": "6970d32d",
   "metadata": {},
   "outputs": [],
   "source": [
    "for student in students:#iterate\n",
    "    if student.endswith(\"i\"):\n",
    "        break;\n",
    "    print(student);"
   ]
  },
  {
   "cell_type": "code",
   "execution_count": 1,
   "id": "ddcd8973",
   "metadata": {},
   "outputs": [
    {
     "name": "stdout",
     "output_type": "stream",
     "text": [
      "1 2 3 4 5 6 8 9 "
     ]
    }
   ],
   "source": [
    "for num in range(0, 10):\n",
    "    if num%7 == 0:\n",
    "        continue\n",
    "    print(num, end=\" \")"
   ]
  },
  {
   "cell_type": "markdown",
   "id": "304074ab",
   "metadata": {},
   "source": [
    "# Task"
   ]
  },
  {
   "cell_type": "code",
   "execution_count": null,
   "id": "d0832c25",
   "metadata": {},
   "outputs": [],
   "source": [
    "userInputs = input('Enter 5 numbers with gap').split(' ');\n",
    "odds = [];\n",
    "even = [];\n",
    "\n",
    "for userInput in userInputs:\n",
    "    if(int(userInput)%2 == 0):\n",
    "        even.append(int(userInput));\n",
    "    if(int(userInput)%2 == 1):\n",
    "       odds.append(int(userInput))\n",
    "        \n",
    "print(f'Odds: {odds}', f'Evens: {even}', end=\" \");"
   ]
  },
  {
   "cell_type": "code",
   "execution_count": null,
   "id": "b34cc6fb",
   "metadata": {},
   "outputs": [],
   "source": [
    "# write a program that give list of odds\n",
    "\n",
    "[num for num in range(1, 10) if num%2 != 0]"
   ]
  },
  {
   "cell_type": "code",
   "execution_count": 18,
   "id": "6eacf6a0",
   "metadata": {},
   "outputs": [
    {
     "data": {
      "text/plain": [
       "[10, 30, 50, 70, 90]"
      ]
     },
     "execution_count": 18,
     "metadata": {},
     "output_type": "execute_result"
    }
   ],
   "source": [
    "[num*10 for num in range(1, 10) if num%2 != 0]"
   ]
  },
  {
   "cell_type": "markdown",
   "id": "0932166f",
   "metadata": {},
   "source": [
    "## While Loop"
   ]
  },
  {
   "cell_type": "code",
   "execution_count": 4,
   "id": "51287ecf",
   "metadata": {},
   "outputs": [
    {
     "name": "stdout",
     "output_type": "stream",
     "text": [
      "0 1 2 3 4 5 6 7 8 9 "
     ]
    }
   ],
   "source": [
    "a = 0\n",
    "\n",
    "while a<10:\n",
    "    print(a, end=\" \");\n",
    "    a += 1"
   ]
  },
  {
   "cell_type": "code",
   "execution_count": 6,
   "id": "639aa5d7",
   "metadata": {},
   "outputs": [
    {
     "name": "stdout",
     "output_type": "stream",
     "text": [
      "Enter guest name or press q to exitramiz\n",
      "Enter guest name or press q to exitali\n",
      "Enter guest name or press q to exitsara\n",
      "Enter guest name or press q to exitq\n"
     ]
    }
   ],
   "source": [
    "guestList = [];\n",
    "flag = True;\n",
    "\n",
    "while flag:\n",
    "    guestName = input('Enter guest name or press q to exit');\n",
    "    if(guestName == 'q'):\n",
    "        flag = False;\n",
    "    else:\n",
    "        guestList.append(guestName);\n",
    "guestList;"
   ]
  },
  {
   "cell_type": "code",
   "execution_count": 7,
   "id": "b54eb255",
   "metadata": {},
   "outputs": [
    {
     "name": "stdout",
     "output_type": "stream",
     "text": [
      "['ramiz', 'ali', 'sara']\n"
     ]
    }
   ],
   "source": [
    "print(guestList)"
   ]
  }
 ],
 "metadata": {
  "kernelspec": {
   "display_name": "Python 3 (ipykernel)",
   "language": "python",
   "name": "python3"
  },
  "language_info": {
   "codemirror_mode": {
    "name": "ipython",
    "version": 3
   },
   "file_extension": ".py",
   "mimetype": "text/x-python",
   "name": "python",
   "nbconvert_exporter": "python",
   "pygments_lexer": "ipython3",
   "version": "3.9.12"
  }
 },
 "nbformat": 4,
 "nbformat_minor": 5
}
